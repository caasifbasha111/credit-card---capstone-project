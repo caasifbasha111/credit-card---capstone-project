{
 "cells": [
  {
   "cell_type": "code",
   "execution_count": 1,
   "metadata": {
    "collapsed": true
   },
   "outputs": [],
   "source": [
    "import pandas as pd\n",
    "import numpy as np\n",
    "import matplotlib.pyplot as plt\n",
    "from sklearn.tree import tree\n",
    "from sklearn.tree import DecisionTreeRegressor\n",
    "from sklearn.tree import DecisionTreeClassifier\n",
    "from sklearn.model_selection import train_test_split\n",
    "from sklearn import preprocessing\n"
   ]
  },
  {
   "cell_type": "code",
   "execution_count": 2,
   "metadata": {
    "collapsed": true
   },
   "outputs": [],
   "source": [
    "cred = pd.read_csv(r\"C:\\Users\\caasi\\Downloads\\CreditCard_Analysis (1).csv\")"
   ]
  },
  {
   "cell_type": "code",
   "execution_count": 3,
   "metadata": {},
   "outputs": [
    {
     "data": {
      "text/html": [
       "<div>\n",
       "<style>\n",
       "    .dataframe thead tr:only-child th {\n",
       "        text-align: right;\n",
       "    }\n",
       "\n",
       "    .dataframe thead th {\n",
       "        text-align: left;\n",
       "    }\n",
       "\n",
       "    .dataframe tbody tr th {\n",
       "        vertical-align: top;\n",
       "    }\n",
       "</style>\n",
       "<table border=\"1\" class=\"dataframe\">\n",
       "  <thead>\n",
       "    <tr style=\"text-align: right;\">\n",
       "      <th></th>\n",
       "      <th>Account_Num</th>\n",
       "      <th>Region</th>\n",
       "      <th>Sincome</th>\n",
       "      <th>Education</th>\n",
       "      <th>Dependents</th>\n",
       "      <th>Nov</th>\n",
       "      <th>Dec</th>\n",
       "      <th>Jan</th>\n",
       "      <th>Feb</th>\n",
       "      <th>Mar</th>\n",
       "      <th>...</th>\n",
       "      <th>Ploan</th>\n",
       "      <th>SalAcc</th>\n",
       "      <th>CreditCard</th>\n",
       "      <th>AODate</th>\n",
       "      <th>CIDate</th>\n",
       "      <th>GenDate</th>\n",
       "      <th>AOMonth</th>\n",
       "      <th>CIMonth</th>\n",
       "      <th>Type_CC</th>\n",
       "      <th>N_Days</th>\n",
       "    </tr>\n",
       "  </thead>\n",
       "  <tbody>\n",
       "    <tr>\n",
       "      <th>0</th>\n",
       "      <td>5.060000e+11</td>\n",
       "      <td>3</td>\n",
       "      <td>0</td>\n",
       "      <td>3</td>\n",
       "      <td>0</td>\n",
       "      <td>$177.00</td>\n",
       "      <td>$373.00</td>\n",
       "      <td>$234.00</td>\n",
       "      <td>$191.00</td>\n",
       "      <td>$353.00</td>\n",
       "      <td>...</td>\n",
       "      <td>1</td>\n",
       "      <td>0</td>\n",
       "      <td>0</td>\n",
       "      <td>22/11/2019</td>\n",
       "      <td>31/12/9999</td>\n",
       "      <td>2914675</td>\n",
       "      <td>Nov</td>\n",
       "      <td>NaaN</td>\n",
       "      <td>0</td>\n",
       "      <td>1000</td>\n",
       "    </tr>\n",
       "    <tr>\n",
       "      <th>1</th>\n",
       "      <td>5.450000e+11</td>\n",
       "      <td>4</td>\n",
       "      <td>0</td>\n",
       "      <td>6</td>\n",
       "      <td>1</td>\n",
       "      <td>$1,316.00</td>\n",
       "      <td>$2,067.00</td>\n",
       "      <td>$1,917.00</td>\n",
       "      <td>$474.00</td>\n",
       "      <td>$1,142.00</td>\n",
       "      <td>...</td>\n",
       "      <td>1</td>\n",
       "      <td>0</td>\n",
       "      <td>1</td>\n",
       "      <td>10/01/2019</td>\n",
       "      <td>12/02/2019</td>\n",
       "      <td>34</td>\n",
       "      <td>Jan</td>\n",
       "      <td>Feb</td>\n",
       "      <td>3</td>\n",
       "      <td>34</td>\n",
       "    </tr>\n",
       "    <tr>\n",
       "      <th>2</th>\n",
       "      <td>5.810000e+11</td>\n",
       "      <td>4</td>\n",
       "      <td>0</td>\n",
       "      <td>1</td>\n",
       "      <td>2</td>\n",
       "      <td>$517.00</td>\n",
       "      <td>$976.00</td>\n",
       "      <td>$1,378.00</td>\n",
       "      <td>$819.00</td>\n",
       "      <td>$1,317.00</td>\n",
       "      <td>...</td>\n",
       "      <td>1</td>\n",
       "      <td>0</td>\n",
       "      <td>0</td>\n",
       "      <td>31/01/2019</td>\n",
       "      <td>31/12/9999</td>\n",
       "      <td>2914970</td>\n",
       "      <td>Jan</td>\n",
       "      <td>NaaN</td>\n",
       "      <td>0</td>\n",
       "      <td>1000</td>\n",
       "    </tr>\n",
       "    <tr>\n",
       "      <th>3</th>\n",
       "      <td>2.270000e+11</td>\n",
       "      <td>1</td>\n",
       "      <td>0</td>\n",
       "      <td>1</td>\n",
       "      <td>0</td>\n",
       "      <td>$1,187.00</td>\n",
       "      <td>$1,740.00</td>\n",
       "      <td>$908.00</td>\n",
       "      <td>$1,046.00</td>\n",
       "      <td>$693.00</td>\n",
       "      <td>...</td>\n",
       "      <td>0</td>\n",
       "      <td>0</td>\n",
       "      <td>0</td>\n",
       "      <td>02/08/2019</td>\n",
       "      <td>31/12/9999</td>\n",
       "      <td>2914787</td>\n",
       "      <td>Aug</td>\n",
       "      <td>NaaN</td>\n",
       "      <td>0</td>\n",
       "      <td>1000</td>\n",
       "    </tr>\n",
       "    <tr>\n",
       "      <th>4</th>\n",
       "      <td>2.470000e+11</td>\n",
       "      <td>1</td>\n",
       "      <td>1</td>\n",
       "      <td>3</td>\n",
       "      <td>3</td>\n",
       "      <td>$1,773.00</td>\n",
       "      <td>$1,157.00</td>\n",
       "      <td>$1,697.00</td>\n",
       "      <td>$1,077.00</td>\n",
       "      <td>$1,847.00</td>\n",
       "      <td>...</td>\n",
       "      <td>0</td>\n",
       "      <td>0</td>\n",
       "      <td>0</td>\n",
       "      <td>31/12/2019</td>\n",
       "      <td>31/12/9999</td>\n",
       "      <td>2914636</td>\n",
       "      <td>Dec</td>\n",
       "      <td>NaaN</td>\n",
       "      <td>0</td>\n",
       "      <td>1000</td>\n",
       "    </tr>\n",
       "  </tbody>\n",
       "</table>\n",
       "<p>5 rows × 33 columns</p>\n",
       "</div>"
      ],
      "text/plain": [
       "    Account_Num  Region  Sincome  Education  Dependents          Nov  \\\n",
       "0  5.060000e+11       3        0          3           0     $177.00    \n",
       "1  5.450000e+11       4        0          6           1   $1,316.00    \n",
       "2  5.810000e+11       4        0          1           2     $517.00    \n",
       "3  2.270000e+11       1        0          1           0   $1,187.00    \n",
       "4  2.470000e+11       1        1          3           3   $1,773.00    \n",
       "\n",
       "           Dec          Jan          Feb          Mar   ...   Ploan SalAcc  \\\n",
       "0     $373.00      $234.00      $191.00      $353.00    ...       1      0   \n",
       "1   $2,067.00    $1,917.00      $474.00    $1,142.00    ...       1      0   \n",
       "2     $976.00    $1,378.00      $819.00    $1,317.00    ...       1      0   \n",
       "3   $1,740.00      $908.00    $1,046.00      $693.00    ...       0      0   \n",
       "4   $1,157.00    $1,697.00    $1,077.00    $1,847.00    ...       0      0   \n",
       "\n",
       "  CreditCard      AODate      CIDate  GenDate AOMonth CIMonth  Type_CC  N_Days  \n",
       "0          0  22/11/2019  31/12/9999  2914675     Nov    NaaN        0    1000  \n",
       "1          1  10/01/2019  12/02/2019       34     Jan     Feb        3      34  \n",
       "2          0  31/01/2019  31/12/9999  2914970     Jan    NaaN        0    1000  \n",
       "3          0  02/08/2019  31/12/9999  2914787     Aug    NaaN        0    1000  \n",
       "4          0  31/12/2019  31/12/9999  2914636     Dec    NaaN        0    1000  \n",
       "\n",
       "[5 rows x 33 columns]"
      ]
     },
     "execution_count": 3,
     "metadata": {},
     "output_type": "execute_result"
    }
   ],
   "source": [
    "cred.head(5)"
   ]
  },
  {
   "cell_type": "code",
   "execution_count": 4,
   "metadata": {},
   "outputs": [
    {
     "data": {
      "text/html": [
       "<div>\n",
       "<style>\n",
       "    .dataframe thead tr:only-child th {\n",
       "        text-align: right;\n",
       "    }\n",
       "\n",
       "    .dataframe thead th {\n",
       "        text-align: left;\n",
       "    }\n",
       "\n",
       "    .dataframe tbody tr th {\n",
       "        vertical-align: top;\n",
       "    }\n",
       "</style>\n",
       "<table border=\"1\" class=\"dataframe\">\n",
       "  <thead>\n",
       "    <tr style=\"text-align: right;\">\n",
       "      <th></th>\n",
       "      <th>Account_Num</th>\n",
       "      <th>Region</th>\n",
       "      <th>Sincome</th>\n",
       "      <th>Education</th>\n",
       "      <th>Dependents</th>\n",
       "      <th>Nov</th>\n",
       "      <th>Dec</th>\n",
       "      <th>Jan</th>\n",
       "      <th>Feb</th>\n",
       "      <th>Mar</th>\n",
       "      <th>...</th>\n",
       "      <th>Ploan</th>\n",
       "      <th>SalAcc</th>\n",
       "      <th>CreditCard</th>\n",
       "      <th>AODate</th>\n",
       "      <th>CIDate</th>\n",
       "      <th>GenDate</th>\n",
       "      <th>AOMonth</th>\n",
       "      <th>CIMonth</th>\n",
       "      <th>Type_CC</th>\n",
       "      <th>N_Days</th>\n",
       "    </tr>\n",
       "  </thead>\n",
       "  <tbody>\n",
       "    <tr>\n",
       "      <th>30241</th>\n",
       "      <td>2.210000e+11</td>\n",
       "      <td>2</td>\n",
       "      <td>0</td>\n",
       "      <td>4</td>\n",
       "      <td>6</td>\n",
       "      <td>$445.00</td>\n",
       "      <td>$508.00</td>\n",
       "      <td>$250.00</td>\n",
       "      <td>$2,022.00</td>\n",
       "      <td>$489.00</td>\n",
       "      <td>...</td>\n",
       "      <td>0</td>\n",
       "      <td>0</td>\n",
       "      <td>0</td>\n",
       "      <td>31/10/2019</td>\n",
       "      <td>31/12/9999</td>\n",
       "      <td>2914697</td>\n",
       "      <td>Oct</td>\n",
       "      <td>NaaN</td>\n",
       "      <td>0</td>\n",
       "      <td>1000</td>\n",
       "    </tr>\n",
       "    <tr>\n",
       "      <th>30242</th>\n",
       "      <td>3.410000e+11</td>\n",
       "      <td>4</td>\n",
       "      <td>0</td>\n",
       "      <td>3</td>\n",
       "      <td>3</td>\n",
       "      <td>$327.00</td>\n",
       "      <td>$855.00</td>\n",
       "      <td>$504.00</td>\n",
       "      <td>$771.00</td>\n",
       "      <td>$943.00</td>\n",
       "      <td>...</td>\n",
       "      <td>0</td>\n",
       "      <td>0</td>\n",
       "      <td>0</td>\n",
       "      <td>26/03/2019</td>\n",
       "      <td>31/12/9999</td>\n",
       "      <td>2914916</td>\n",
       "      <td>Mar</td>\n",
       "      <td>NaaN</td>\n",
       "      <td>0</td>\n",
       "      <td>1000</td>\n",
       "    </tr>\n",
       "    <tr>\n",
       "      <th>30243</th>\n",
       "      <td>2.880000e+11</td>\n",
       "      <td>2</td>\n",
       "      <td>1</td>\n",
       "      <td>1</td>\n",
       "      <td>4</td>\n",
       "      <td>$366.00</td>\n",
       "      <td>$456.00</td>\n",
       "      <td>$378.00</td>\n",
       "      <td>$480.00</td>\n",
       "      <td>$303.00</td>\n",
       "      <td>...</td>\n",
       "      <td>0</td>\n",
       "      <td>0</td>\n",
       "      <td>0</td>\n",
       "      <td>17/06/2019</td>\n",
       "      <td>31/12/9999</td>\n",
       "      <td>2914833</td>\n",
       "      <td>Jun</td>\n",
       "      <td>NaaN</td>\n",
       "      <td>0</td>\n",
       "      <td>1000</td>\n",
       "    </tr>\n",
       "    <tr>\n",
       "      <th>30244</th>\n",
       "      <td>3.470000e+11</td>\n",
       "      <td>4</td>\n",
       "      <td>0</td>\n",
       "      <td>1</td>\n",
       "      <td>1</td>\n",
       "      <td>$465.00</td>\n",
       "      <td>$400.00</td>\n",
       "      <td>$390.00</td>\n",
       "      <td>$543.00</td>\n",
       "      <td>$475.00</td>\n",
       "      <td>...</td>\n",
       "      <td>0</td>\n",
       "      <td>1</td>\n",
       "      <td>0</td>\n",
       "      <td>15/05/2019</td>\n",
       "      <td>31/12/9999</td>\n",
       "      <td>2914866</td>\n",
       "      <td>May</td>\n",
       "      <td>NaaN</td>\n",
       "      <td>0</td>\n",
       "      <td>1000</td>\n",
       "    </tr>\n",
       "    <tr>\n",
       "      <th>30245</th>\n",
       "      <td>4.390000e+11</td>\n",
       "      <td>2</td>\n",
       "      <td>0</td>\n",
       "      <td>3</td>\n",
       "      <td>5</td>\n",
       "      <td>$176.00</td>\n",
       "      <td>$248.00</td>\n",
       "      <td>$204.00</td>\n",
       "      <td>$417.00</td>\n",
       "      <td>$383.00</td>\n",
       "      <td>...</td>\n",
       "      <td>0</td>\n",
       "      <td>1</td>\n",
       "      <td>0</td>\n",
       "      <td>05/04/2019</td>\n",
       "      <td>31/12/9999</td>\n",
       "      <td>2914906</td>\n",
       "      <td>Apr</td>\n",
       "      <td>NaaN</td>\n",
       "      <td>0</td>\n",
       "      <td>1000</td>\n",
       "    </tr>\n",
       "  </tbody>\n",
       "</table>\n",
       "<p>5 rows × 33 columns</p>\n",
       "</div>"
      ],
      "text/plain": [
       "        Account_Num  Region  Sincome  Education  Dependents        Nov  \\\n",
       "30241  2.210000e+11       2        0          4           6   $445.00    \n",
       "30242  3.410000e+11       4        0          3           3   $327.00    \n",
       "30243  2.880000e+11       2        1          1           4   $366.00    \n",
       "30244  3.470000e+11       4        0          1           1   $465.00    \n",
       "30245  4.390000e+11       2        0          3           5   $176.00    \n",
       "\n",
       "             Dec        Jan          Feb        Mar   ...   Ploan SalAcc  \\\n",
       "30241   $508.00    $250.00    $2,022.00    $489.00    ...       0      0   \n",
       "30242   $855.00    $504.00      $771.00    $943.00    ...       0      0   \n",
       "30243   $456.00    $378.00      $480.00    $303.00    ...       0      0   \n",
       "30244   $400.00    $390.00      $543.00    $475.00    ...       0      1   \n",
       "30245   $248.00    $204.00      $417.00    $383.00    ...       0      1   \n",
       "\n",
       "      CreditCard      AODate      CIDate  GenDate AOMonth CIMonth  Type_CC  \\\n",
       "30241          0  31/10/2019  31/12/9999  2914697     Oct    NaaN        0   \n",
       "30242          0  26/03/2019  31/12/9999  2914916     Mar    NaaN        0   \n",
       "30243          0  17/06/2019  31/12/9999  2914833     Jun    NaaN        0   \n",
       "30244          0  15/05/2019  31/12/9999  2914866     May    NaaN        0   \n",
       "30245          0  05/04/2019  31/12/9999  2914906     Apr    NaaN        0   \n",
       "\n",
       "       N_Days  \n",
       "30241    1000  \n",
       "30242    1000  \n",
       "30243    1000  \n",
       "30244    1000  \n",
       "30245    1000  \n",
       "\n",
       "[5 rows x 33 columns]"
      ]
     },
     "execution_count": 4,
     "metadata": {},
     "output_type": "execute_result"
    }
   ],
   "source": [
    "cred.tail(5)"
   ]
  },
  {
   "cell_type": "code",
   "execution_count": 5,
   "metadata": {
    "scrolled": true
   },
   "outputs": [
    {
     "name": "stdout",
     "output_type": "stream",
     "text": [
      "<class 'pandas.core.frame.DataFrame'>\n",
      "RangeIndex: 30246 entries, 0 to 30245\n",
      "Data columns (total 33 columns):\n",
      "Account_Num    30246 non-null float64\n",
      "Region         30246 non-null int64\n",
      "Sincome        30246 non-null int64\n",
      "Education      30246 non-null int64\n",
      "Dependents     30246 non-null int64\n",
      "Nov            30246 non-null object\n",
      "Dec            30246 non-null object\n",
      "Jan            30246 non-null object\n",
      "Feb            30246 non-null object\n",
      "Mar            30246 non-null object\n",
      "Apr            30246 non-null object\n",
      "May            30246 non-null object\n",
      "Jun            30246 non-null object\n",
      "Jul            30246 non-null object\n",
      "Aug            30246 non-null object\n",
      "Sep            30246 non-null object\n",
      "Oct            30246 non-null object\n",
      "Abalance       30246 non-null object\n",
      "AB>$1000       30246 non-null int64\n",
      "checkb         30246 non-null int64\n",
      "Aloan          30246 non-null int64\n",
      "Hloan          30246 non-null int64\n",
      "Dpayment       30246 non-null int64\n",
      "Ploan          30246 non-null int64\n",
      "SalAcc         30246 non-null int64\n",
      "CreditCard     30246 non-null int64\n",
      "AODate         30246 non-null object\n",
      "CIDate         30246 non-null object\n",
      "GenDate        30246 non-null int64\n",
      "AOMonth        30246 non-null object\n",
      "CIMonth        30246 non-null object\n",
      "Type_CC        30246 non-null int64\n",
      "N_Days         30246 non-null int64\n",
      "dtypes: float64(1), int64(15), object(17)\n",
      "memory usage: 7.6+ MB\n"
     ]
    }
   ],
   "source": [
    "cred.info()"
   ]
  },
  {
   "cell_type": "code",
   "execution_count": null,
   "metadata": {
    "collapsed": true
   },
   "outputs": [],
   "source": []
  },
  {
   "cell_type": "code",
   "execution_count": 6,
   "metadata": {},
   "outputs": [],
   "source": [
    "x = cred[['Region','Sincome','Education','Abalance','Dependents','checkb','AB>$1000','Aloan','Hloan','Dpayment','SalAcc','Type_CC','N_Days']]\n",
    "y = cred['CreditCard']"
   ]
  },
  {
   "cell_type": "code",
   "execution_count": 80,
   "metadata": {},
   "outputs": [
    {
     "data": {
      "text/html": [
       "<div>\n",
       "<style>\n",
       "    .dataframe thead tr:only-child th {\n",
       "        text-align: right;\n",
       "    }\n",
       "\n",
       "    .dataframe thead th {\n",
       "        text-align: left;\n",
       "    }\n",
       "\n",
       "    .dataframe tbody tr th {\n",
       "        vertical-align: top;\n",
       "    }\n",
       "</style>\n",
       "<table border=\"1\" class=\"dataframe\">\n",
       "  <thead>\n",
       "    <tr style=\"text-align: right;\">\n",
       "      <th></th>\n",
       "      <th>Region</th>\n",
       "      <th>Sincome</th>\n",
       "      <th>Education</th>\n",
       "      <th>Abalance</th>\n",
       "      <th>Dependents</th>\n",
       "      <th>checkb</th>\n",
       "      <th>AB&gt;$1000</th>\n",
       "      <th>Aloan</th>\n",
       "      <th>Hloan</th>\n",
       "      <th>Dpayment</th>\n",
       "      <th>SalAcc</th>\n",
       "      <th>Type_CC</th>\n",
       "      <th>N_Days</th>\n",
       "    </tr>\n",
       "  </thead>\n",
       "  <tbody>\n",
       "    <tr>\n",
       "      <th>0</th>\n",
       "      <td>2</td>\n",
       "      <td>0</td>\n",
       "      <td>2</td>\n",
       "      <td>4329</td>\n",
       "      <td>0</td>\n",
       "      <td>0</td>\n",
       "      <td>0</td>\n",
       "      <td>1</td>\n",
       "      <td>0</td>\n",
       "      <td>0</td>\n",
       "      <td>0</td>\n",
       "      <td>0</td>\n",
       "      <td>61</td>\n",
       "    </tr>\n",
       "    <tr>\n",
       "      <th>1</th>\n",
       "      <td>3</td>\n",
       "      <td>0</td>\n",
       "      <td>5</td>\n",
       "      <td>3121</td>\n",
       "      <td>1</td>\n",
       "      <td>0</td>\n",
       "      <td>9</td>\n",
       "      <td>0</td>\n",
       "      <td>0</td>\n",
       "      <td>0</td>\n",
       "      <td>0</td>\n",
       "      <td>3</td>\n",
       "      <td>3</td>\n",
       "    </tr>\n",
       "    <tr>\n",
       "      <th>2</th>\n",
       "      <td>3</td>\n",
       "      <td>0</td>\n",
       "      <td>0</td>\n",
       "      <td>7970</td>\n",
       "      <td>2</td>\n",
       "      <td>0</td>\n",
       "      <td>3</td>\n",
       "      <td>0</td>\n",
       "      <td>0</td>\n",
       "      <td>0</td>\n",
       "      <td>0</td>\n",
       "      <td>0</td>\n",
       "      <td>61</td>\n",
       "    </tr>\n",
       "    <tr>\n",
       "      <th>3</th>\n",
       "      <td>0</td>\n",
       "      <td>0</td>\n",
       "      <td>0</td>\n",
       "      <td>8157</td>\n",
       "      <td>0</td>\n",
       "      <td>0</td>\n",
       "      <td>4</td>\n",
       "      <td>0</td>\n",
       "      <td>0</td>\n",
       "      <td>0</td>\n",
       "      <td>0</td>\n",
       "      <td>0</td>\n",
       "      <td>61</td>\n",
       "    </tr>\n",
       "  </tbody>\n",
       "</table>\n",
       "</div>"
      ],
      "text/plain": [
       "   Region  Sincome  Education  Abalance  Dependents  checkb  AB>$1000  Aloan  \\\n",
       "0       2        0          2      4329           0       0         0      1   \n",
       "1       3        0          5      3121           1       0         9      0   \n",
       "2       3        0          0      7970           2       0         3      0   \n",
       "3       0        0          0      8157           0       0         4      0   \n",
       "\n",
       "   Hloan  Dpayment  SalAcc  Type_CC  N_Days  \n",
       "0      0         0       0        0      61  \n",
       "1      0         0       0        3       3  \n",
       "2      0         0       0        0      61  \n",
       "3      0         0       0        0      61  "
      ]
     },
     "execution_count": 80,
     "metadata": {},
     "output_type": "execute_result"
    }
   ],
   "source": [
    "x.head(4)"
   ]
  },
  {
   "cell_type": "code",
   "execution_count": 8,
   "metadata": {},
   "outputs": [],
   "source": [
    "le = preprocessing.LabelEncoder()\n",
    "cred = cred.apply(le.fit_transform)"
   ]
  },
  {
   "cell_type": "code",
   "execution_count": 79,
   "metadata": {},
   "outputs": [
    {
     "data": {
      "text/html": [
       "<div>\n",
       "<style>\n",
       "    .dataframe thead tr:only-child th {\n",
       "        text-align: right;\n",
       "    }\n",
       "\n",
       "    .dataframe thead th {\n",
       "        text-align: left;\n",
       "    }\n",
       "\n",
       "    .dataframe tbody tr th {\n",
       "        vertical-align: top;\n",
       "    }\n",
       "</style>\n",
       "<table border=\"1\" class=\"dataframe\">\n",
       "  <thead>\n",
       "    <tr style=\"text-align: right;\">\n",
       "      <th></th>\n",
       "      <th>Account_Num</th>\n",
       "      <th>Region</th>\n",
       "      <th>Sincome</th>\n",
       "      <th>Education</th>\n",
       "      <th>Dependents</th>\n",
       "      <th>Nov</th>\n",
       "      <th>Dec</th>\n",
       "      <th>Jan</th>\n",
       "      <th>Feb</th>\n",
       "      <th>Mar</th>\n",
       "      <th>...</th>\n",
       "      <th>Ploan</th>\n",
       "      <th>SalAcc</th>\n",
       "      <th>CreditCard</th>\n",
       "      <th>AODate</th>\n",
       "      <th>CIDate</th>\n",
       "      <th>GenDate</th>\n",
       "      <th>AOMonth</th>\n",
       "      <th>CIMonth</th>\n",
       "      <th>Type_CC</th>\n",
       "      <th>N_Days</th>\n",
       "    </tr>\n",
       "  </thead>\n",
       "  <tbody>\n",
       "    <tr>\n",
       "      <th>0</th>\n",
       "      <td>406</td>\n",
       "      <td>2</td>\n",
       "      <td>0</td>\n",
       "      <td>2</td>\n",
       "      <td>0</td>\n",
       "      <td>1075</td>\n",
       "      <td>1336</td>\n",
       "      <td>1195</td>\n",
       "      <td>1087</td>\n",
       "      <td>1313</td>\n",
       "      <td>...</td>\n",
       "      <td>1</td>\n",
       "      <td>0</td>\n",
       "      <td>0</td>\n",
       "      <td>262</td>\n",
       "      <td>403</td>\n",
       "      <td>100</td>\n",
       "      <td>9</td>\n",
       "      <td>9</td>\n",
       "      <td>0</td>\n",
       "      <td>61</td>\n",
       "    </tr>\n",
       "    <tr>\n",
       "      <th>1</th>\n",
       "      <td>445</td>\n",
       "      <td>3</td>\n",
       "      <td>0</td>\n",
       "      <td>5</td>\n",
       "      <td>1</td>\n",
       "      <td>316</td>\n",
       "      <td>1160</td>\n",
       "      <td>917</td>\n",
       "      <td>1427</td>\n",
       "      <td>142</td>\n",
       "      <td>...</td>\n",
       "      <td>1</td>\n",
       "      <td>0</td>\n",
       "      <td>1</td>\n",
       "      <td>108</td>\n",
       "      <td>148</td>\n",
       "      <td>3</td>\n",
       "      <td>4</td>\n",
       "      <td>3</td>\n",
       "      <td>3</td>\n",
       "      <td>3</td>\n",
       "    </tr>\n",
       "    <tr>\n",
       "      <th>2</th>\n",
       "      <td>481</td>\n",
       "      <td>3</td>\n",
       "      <td>0</td>\n",
       "      <td>0</td>\n",
       "      <td>2</td>\n",
       "      <td>1472</td>\n",
       "      <td>1955</td>\n",
       "      <td>378</td>\n",
       "      <td>1779</td>\n",
       "      <td>317</td>\n",
       "      <td>...</td>\n",
       "      <td>1</td>\n",
       "      <td>0</td>\n",
       "      <td>0</td>\n",
       "      <td>358</td>\n",
       "      <td>403</td>\n",
       "      <td>395</td>\n",
       "      <td>4</td>\n",
       "      <td>9</td>\n",
       "      <td>0</td>\n",
       "      <td>61</td>\n",
       "    </tr>\n",
       "    <tr>\n",
       "      <th>3</th>\n",
       "      <td>127</td>\n",
       "      <td>0</td>\n",
       "      <td>0</td>\n",
       "      <td>0</td>\n",
       "      <td>0</td>\n",
       "      <td>187</td>\n",
       "      <td>739</td>\n",
       "      <td>1882</td>\n",
       "      <td>46</td>\n",
       "      <td>1652</td>\n",
       "      <td>...</td>\n",
       "      <td>0</td>\n",
       "      <td>0</td>\n",
       "      <td>0</td>\n",
       "      <td>19</td>\n",
       "      <td>403</td>\n",
       "      <td>212</td>\n",
       "      <td>1</td>\n",
       "      <td>9</td>\n",
       "      <td>0</td>\n",
       "      <td>61</td>\n",
       "    </tr>\n",
       "    <tr>\n",
       "      <th>4</th>\n",
       "      <td>147</td>\n",
       "      <td>0</td>\n",
       "      <td>1</td>\n",
       "      <td>2</td>\n",
       "      <td>3</td>\n",
       "      <td>772</td>\n",
       "      <td>157</td>\n",
       "      <td>697</td>\n",
       "      <td>77</td>\n",
       "      <td>844</td>\n",
       "      <td>...</td>\n",
       "      <td>0</td>\n",
       "      <td>0</td>\n",
       "      <td>0</td>\n",
       "      <td>364</td>\n",
       "      <td>403</td>\n",
       "      <td>61</td>\n",
       "      <td>2</td>\n",
       "      <td>9</td>\n",
       "      <td>0</td>\n",
       "      <td>61</td>\n",
       "    </tr>\n",
       "    <tr>\n",
       "      <th>5</th>\n",
       "      <td>400</td>\n",
       "      <td>1</td>\n",
       "      <td>0</td>\n",
       "      <td>0</td>\n",
       "      <td>2</td>\n",
       "      <td>1547</td>\n",
       "      <td>491</td>\n",
       "      <td>1864</td>\n",
       "      <td>631</td>\n",
       "      <td>1005</td>\n",
       "      <td>...</td>\n",
       "      <td>0</td>\n",
       "      <td>0</td>\n",
       "      <td>0</td>\n",
       "      <td>114</td>\n",
       "      <td>403</td>\n",
       "      <td>235</td>\n",
       "      <td>5</td>\n",
       "      <td>9</td>\n",
       "      <td>0</td>\n",
       "      <td>61</td>\n",
       "    </tr>\n",
       "  </tbody>\n",
       "</table>\n",
       "<p>6 rows × 33 columns</p>\n",
       "</div>"
      ],
      "text/plain": [
       "   Account_Num  Region  Sincome  Education  Dependents   Nov   Dec   Jan  \\\n",
       "0          406       2        0          2           0  1075  1336  1195   \n",
       "1          445       3        0          5           1   316  1160   917   \n",
       "2          481       3        0          0           2  1472  1955   378   \n",
       "3          127       0        0          0           0   187   739  1882   \n",
       "4          147       0        1          2           3   772   157   697   \n",
       "5          400       1        0          0           2  1547   491  1864   \n",
       "\n",
       "    Feb   Mar   ...    Ploan  SalAcc  CreditCard  AODate  CIDate  GenDate  \\\n",
       "0  1087  1313   ...        1       0           0     262     403      100   \n",
       "1  1427   142   ...        1       0           1     108     148        3   \n",
       "2  1779   317   ...        1       0           0     358     403      395   \n",
       "3    46  1652   ...        0       0           0      19     403      212   \n",
       "4    77   844   ...        0       0           0     364     403       61   \n",
       "5   631  1005   ...        0       0           0     114     403      235   \n",
       "\n",
       "   AOMonth  CIMonth  Type_CC  N_Days  \n",
       "0        9        9        0      61  \n",
       "1        4        3        3       3  \n",
       "2        4        9        0      61  \n",
       "3        1        9        0      61  \n",
       "4        2        9        0      61  \n",
       "5        5        9        0      61  \n",
       "\n",
       "[6 rows x 33 columns]"
      ]
     },
     "execution_count": 79,
     "metadata": {},
     "output_type": "execute_result"
    }
   ],
   "source": [
    "cred.head(6)"
   ]
  },
  {
   "cell_type": "code",
   "execution_count": 10,
   "metadata": {
    "collapsed": true
   },
   "outputs": [],
   "source": [
    "x = cred[['Region','Sincome','Education','Abalance','Dependents','checkb','AB>$1000','Aloan','Hloan','Dpayment','SalAcc','Type_CC','N_Days']]\n",
    "y = cred['CreditCard']"
   ]
  },
  {
   "cell_type": "code",
   "execution_count": null,
   "metadata": {},
   "outputs": [],
   "source": []
  },
  {
   "cell_type": "code",
   "execution_count": 11,
   "metadata": {},
   "outputs": [
    {
     "name": "stdout",
     "output_type": "stream",
     "text": [
      "       Region  Sincome  Education  Abalance  Dependents  checkb  AB>$1000  \\\n",
      "0           2        0          2      4329           0       0         0   \n",
      "1           3        0          5      3121           1       0         9   \n",
      "2           3        0          0      7970           2       0         3   \n",
      "3           0        0          0      8157           0       0         4   \n",
      "4           0        1          2      2666           3       0         8   \n",
      "5           1        0          0      9093           2       0         6   \n",
      "6           1        0          0      1745           4       0         8   \n",
      "7           1        0          0      4422           2       0         0   \n",
      "8           1        0          0      1654           1       0         7   \n",
      "9           2        0          1      4302           0       0         0   \n",
      "10          3        0          1       736           0       0         6   \n",
      "11          3        0          1      4730           2       0         0   \n",
      "12          0        0          4      3050           3       0        11   \n",
      "13          2        0          0      7917           4       0         6   \n",
      "14          2        0          4      8442           2       0         5   \n",
      "15          2        0          2      4548           2       0         0   \n",
      "16          3        0          4      8225           2       0         6   \n",
      "17          2        0          2      4774           2       0         0   \n",
      "18          2        0          1      7419           4       0         5   \n",
      "19          2        1          0      4572           3       0         0   \n",
      "20          1        0          3      8366           3       0         6   \n",
      "21          0        1          1       910           1       0         7   \n",
      "22          2        0          1      7512           2       0         4   \n",
      "23          0        0          0      4435           0       0         0   \n",
      "24          3        0          3      1151           3       0         8   \n",
      "25          0        0          1      7893           1       0         6   \n",
      "26          1        0          4      1335           1       0         8   \n",
      "27          2        0          4      7191           3       0         5   \n",
      "28          2        0          3      8482           5       0         5   \n",
      "29          0        0          1      8062           3       0         5   \n",
      "...       ...      ...        ...       ...         ...     ...       ...   \n",
      "30216       2        1          0      4212           2       0         0   \n",
      "30217       3        0          2      4530           1       0         0   \n",
      "30218       3        1          2      4674           4       0         0   \n",
      "30219       3        0          1      4022           1       0         0   \n",
      "30220       0        0          1      1727           3       0         7   \n",
      "30221       0        0          4      8463           3       0         4   \n",
      "30222       0        0          3      8438           2       0         4   \n",
      "30223       1        0          0      2199           4       0         7   \n",
      "30224       1        0          3        47           2       0         5   \n",
      "30225       4        0          1      7534           2       0         4   \n",
      "30226       2        0          2      7421           0       0         5   \n",
      "30227       0        0          5      8926           2       0         4   \n",
      "30228       3        0          2      2257           2       0         8   \n",
      "30229       2        1          2      4497           6       0         0   \n",
      "30230       2        0          5      1640           0       0         6   \n",
      "30231       4        0          2       206           3       0         7   \n",
      "30232       3        1          2      3732           1       0         0   \n",
      "30233       1        0          0      4627           5       0         0   \n",
      "30234       1        0          2      4956           3       0         0   \n",
      "30235       2        0          2      4302           0       0         0   \n",
      "30236       4        0          2      7188           2       0         4   \n",
      "30237       2        1          1      4706           4       1         0   \n",
      "30238       2        0          1      6404           0       0         5   \n",
      "30239       2        0          0      7622           5       0         4   \n",
      "30240       4        0          1      4802           0       0         0   \n",
      "30241       1        0          3      1279           6       0         6   \n",
      "30242       3        0          2       366           3       0         5   \n",
      "30243       1        1          0      5359           4       0         0   \n",
      "30244       3        0          0      5413           1       0         0   \n",
      "30245       1        0          2      4130           5       0         0   \n",
      "\n",
      "       Aloan  Hloan  Dpayment  SalAcc  Type_CC  N_Days  \n",
      "0          1      0         0       0        0      61  \n",
      "1          0      0         0       0        3       3  \n",
      "2          0      0         0       0        0      61  \n",
      "3          0      0         0       0        0      61  \n",
      "4          1      0         0       0        0      61  \n",
      "5          0      0         0       0        0      61  \n",
      "6          0      0         0       0        0      61  \n",
      "7          0      0         0       0        0      61  \n",
      "8          0      0         0       0        0      61  \n",
      "9          0      0         0       1        2      25  \n",
      "10         0      1         0       1        0      61  \n",
      "11         0      0         0       0        0      61  \n",
      "12         0      0         0       1        3       9  \n",
      "13         0      0         0       1        0      61  \n",
      "14         0      0         0       0        0      61  \n",
      "15         0      0         0       0        0      61  \n",
      "16         0      0         0       1        0      61  \n",
      "17         0      0         0       0        3      22  \n",
      "18         0      0         0       0        0      61  \n",
      "19         1      0         0       0        0      61  \n",
      "20         0      0         0       0        0      61  \n",
      "21         0      0         0       0        0      61  \n",
      "22         0      0         0       0        0      61  \n",
      "23         0      0         0       0        0      61  \n",
      "24         0      0         0       0        0      61  \n",
      "25         1      0         0       0        0      61  \n",
      "26         1      0         0       0        0      61  \n",
      "27         1      0         0       1        0      61  \n",
      "28         0      0         0       0        0      61  \n",
      "29         0      0         0       0        3      24  \n",
      "...      ...    ...       ...     ...      ...     ...  \n",
      "30216      0      0         0       0        0      61  \n",
      "30217      1      0         0       0        0      61  \n",
      "30218      0      0         0       0        0      61  \n",
      "30219      0      0         0       0        0      61  \n",
      "30220      0      0         0       0        0      61  \n",
      "30221      0      0         0       0        0      61  \n",
      "30222      1      0         0       0        0      61  \n",
      "30223      1      0         1       1        0      61  \n",
      "30224      0      0         0       0        0      61  \n",
      "30225      1      0         0       0        0      61  \n",
      "30226      0      0         0       0        0      61  \n",
      "30227      0      0         0       0        0      61  \n",
      "30228      0      0         0       0        0      61  \n",
      "30229      0      0         0       0        0      61  \n",
      "30230      0      0         0       0        0      61  \n",
      "30231      0      0         0       0        0      61  \n",
      "30232      0      0         0       0        0      61  \n",
      "30233      0      0         0       0        0      61  \n",
      "30234      0      0         0       0        3      42  \n",
      "30235      0      0         0       0        0      61  \n",
      "30236      0      0         0       0        0      61  \n",
      "30237      0      0         0       0        0      61  \n",
      "30238      0      0         0       0        0      61  \n",
      "30239      0      0         0       0        0      61  \n",
      "30240      0      0         1       1        0      61  \n",
      "30241      0      0         0       0        0      61  \n",
      "30242      1      0         0       0        0      61  \n",
      "30243      0      0         0       0        0      61  \n",
      "30244      0      0         0       1        0      61  \n",
      "30245      1      0         0       1        0      61  \n",
      "\n",
      "[30246 rows x 13 columns]\n"
     ]
    }
   ],
   "source": [
    "print(x)"
   ]
  },
  {
   "cell_type": "code",
   "execution_count": 12,
   "metadata": {},
   "outputs": [
    {
     "name": "stdout",
     "output_type": "stream",
     "text": [
      "0        0\n",
      "1        1\n",
      "2        0\n",
      "3        0\n",
      "4        0\n",
      "5        0\n",
      "6        0\n",
      "7        0\n",
      "8        0\n",
      "9        1\n",
      "10       0\n",
      "11       0\n",
      "12       1\n",
      "13       0\n",
      "14       0\n",
      "15       0\n",
      "16       0\n",
      "17       1\n",
      "18       0\n",
      "19       0\n",
      "20       0\n",
      "21       0\n",
      "22       0\n",
      "23       0\n",
      "24       0\n",
      "25       0\n",
      "26       0\n",
      "27       0\n",
      "28       0\n",
      "29       1\n",
      "        ..\n",
      "30216    0\n",
      "30217    0\n",
      "30218    0\n",
      "30219    0\n",
      "30220    0\n",
      "30221    0\n",
      "30222    0\n",
      "30223    0\n",
      "30224    0\n",
      "30225    0\n",
      "30226    0\n",
      "30227    0\n",
      "30228    0\n",
      "30229    0\n",
      "30230    0\n",
      "30231    0\n",
      "30232    0\n",
      "30233    0\n",
      "30234    1\n",
      "30235    0\n",
      "30236    0\n",
      "30237    0\n",
      "30238    0\n",
      "30239    0\n",
      "30240    0\n",
      "30241    0\n",
      "30242    0\n",
      "30243    0\n",
      "30244    0\n",
      "30245    0\n",
      "Name: CreditCard, Length: 30246, dtype: int64\n"
     ]
    }
   ],
   "source": [
    "print(y)"
   ]
  },
  {
   "cell_type": "code",
   "execution_count": 13,
   "metadata": {
    "collapsed": true
   },
   "outputs": [],
   "source": [
    "#train split data \n",
    "from sklearn.model_selection import train_test_split"
   ]
  },
  {
   "cell_type": "code",
   "execution_count": 14,
   "metadata": {
    "collapsed": true
   },
   "outputs": [],
   "source": [
    "x_train, x_test, y_train, y_test = train_test_split(x,y,test_size = 0.2, random_state= 42)"
   ]
  },
  {
   "cell_type": "code",
   "execution_count": 81,
   "metadata": {},
   "outputs": [],
   "source": [
    "x_train = x_train.replace((np.inf, -np.inf, np.nan),0).reset_index(drop=True)"
   ]
  },
  {
   "cell_type": "markdown",
   "metadata": {},
   "source": [
    "# DecisionTree Classifier"
   ]
  },
  {
   "cell_type": "code",
   "execution_count": 16,
   "metadata": {
    "collapsed": true
   },
   "outputs": [],
   "source": [
    "from sklearn.tree import DecisionTreeClassifier\n",
    "from sklearn.metrics import confusion_matrix,accuracy_score,classification_report, f1_score\n",
    "import seaborn as sns"
   ]
  },
  {
   "cell_type": "code",
   "execution_count": 17,
   "metadata": {
    "collapsed": true
   },
   "outputs": [],
   "source": [
    "credDTC = DecisionTreeClassifier()"
   ]
  },
  {
   "cell_type": "code",
   "execution_count": 18,
   "metadata": {},
   "outputs": [
    {
     "data": {
      "text/plain": [
       "DecisionTreeClassifier(class_weight=None, criterion='gini', max_depth=None,\n",
       "            max_features=None, max_leaf_nodes=None,\n",
       "            min_impurity_split=1e-07, min_samples_leaf=1,\n",
       "            min_samples_split=2, min_weight_fraction_leaf=0.0,\n",
       "            presort=False, random_state=None, splitter='best')"
      ]
     },
     "execution_count": 18,
     "metadata": {},
     "output_type": "execute_result"
    }
   ],
   "source": [
    "credDTC.fit(x_train, y_train)"
   ]
  },
  {
   "cell_type": "code",
   "execution_count": 19,
   "metadata": {},
   "outputs": [
    {
     "name": "stdout",
     "output_type": "stream",
     "text": [
      "{'class_weight': None, 'criterion': 'gini', 'max_depth': None, 'max_features': None, 'max_leaf_nodes': None, 'min_impurity_split': 1e-07, 'min_samples_leaf': 1, 'min_samples_split': 2, 'min_weight_fraction_leaf': 0.0, 'presort': False, 'random_state': None, 'splitter': 'best'}\n"
     ]
    }
   ],
   "source": [
    "parameters = credDTC.get_params()\n",
    "print(parameters)"
   ]
  },
  {
   "cell_type": "code",
   "execution_count": 20,
   "metadata": {
    "collapsed": true
   },
   "outputs": [],
   "source": [
    "y_pred = credDTC.predict(x_test)"
   ]
  },
  {
   "cell_type": "code",
   "execution_count": 21,
   "metadata": {},
   "outputs": [
    {
     "data": {
      "text/plain": [
       "array([0, 0, 0, ..., 0, 0, 0], dtype=int64)"
      ]
     },
     "execution_count": 21,
     "metadata": {},
     "output_type": "execute_result"
    }
   ],
   "source": [
    "y_pred"
   ]
  },
  {
   "cell_type": "code",
   "execution_count": 22,
   "metadata": {},
   "outputs": [
    {
     "name": "stdout",
     "output_type": "stream",
     "text": [
      "coeffi of determination 1.0\n"
     ]
    }
   ],
   "source": [
    "#r square value, coeffi, intercept\n",
    "r_sq2 = credDTC.score(x_train, y_train)\n",
    "print('coeffi of determination',r_sq2)"
   ]
  },
  {
   "cell_type": "code",
   "execution_count": 23,
   "metadata": {},
   "outputs": [
    {
     "name": "stdout",
     "output_type": "stream",
     "text": [
      "r2_score: 0.997310508665\n"
     ]
    }
   ],
   "source": [
    "from sklearn.metrics import r2_score\n",
    "print('r2_score:', r2_score(y_test,y_pred))"
   ]
  },
  {
   "cell_type": "code",
   "execution_count": 24,
   "metadata": {
    "collapsed": true
   },
   "outputs": [],
   "source": [
    "from sklearn import metrics"
   ]
  },
  {
   "cell_type": "code",
   "execution_count": 25,
   "metadata": {},
   "outputs": [
    {
     "name": "stdout",
     "output_type": "stream",
     "text": [
      "MSE 0.000165289256198\n"
     ]
    }
   ],
   "source": [
    "print('MSE', metrics.mean_squared_error(y_test,y_pred))"
   ]
  },
  {
   "cell_type": "code",
   "execution_count": 26,
   "metadata": {},
   "outputs": [
    {
     "name": "stdout",
     "output_type": "stream",
     "text": [
      "MAE 0.000165289256198\n"
     ]
    }
   ],
   "source": [
    "print('MAE', metrics.mean_absolute_error(y_test,y_pred))"
   ]
  },
  {
   "cell_type": "code",
   "execution_count": 27,
   "metadata": {},
   "outputs": [
    {
     "name": "stdout",
     "output_type": "stream",
     "text": [
      "ROOT MSE: 0.0128564869307\n"
     ]
    }
   ],
   "source": [
    "print('ROOT MSE:', np.sqrt(metrics.mean_squared_error(y_test,y_pred)))"
   ]
  },
  {
   "cell_type": "code",
   "execution_count": null,
   "metadata": {},
   "outputs": [],
   "source": []
  },
  {
   "cell_type": "code",
   "execution_count": 61,
   "metadata": {},
   "outputs": [
    {
     "name": "stdout",
     "output_type": "stream",
     "text": [
      "accuracy score DTC 0.999834710744\n"
     ]
    }
   ],
   "source": [
    "print('accuracy score DTC',accuracy_score(y_test, y_pred))"
   ]
  },
  {
   "cell_type": "code",
   "execution_count": 62,
   "metadata": {},
   "outputs": [
    {
     "name": "stdout",
     "output_type": "stream",
     "text": [
      "f1 score for DTC 0.998742138365\n"
     ]
    }
   ],
   "source": [
    "print('f1 score for DTC', f1_score(y_test, y_pred))"
   ]
  },
  {
   "cell_type": "code",
   "execution_count": null,
   "metadata": {},
   "outputs": [],
   "source": []
  },
  {
   "cell_type": "code",
   "execution_count": 83,
   "metadata": {
    "scrolled": true
   },
   "outputs": [
    {
     "data": {
      "image/png": "[encoded data removed]",
      "text/plain": [
       "<matplotlib.figure.Figure at 0x199ce666358>"
      ]
     },
     "metadata": {},
     "output_type": "display_data"
    }
   ],
   "source": [
    "cm = confusion_matrix(y_test, y_pred)\n",
    "fig, ax = plt.subplots(figsize=(8,8))\n",
    "sns.heatmap(cm, annot=True)\n",
    "plt.show()"
   ]
  },
  {
   "cell_type": "markdown",
   "metadata": {},
   "source": [
    "# LOGISTIC REGRESSION"
   ]
  },
  {
   "cell_type": "code",
   "execution_count": 34,
   "metadata": {
    "collapsed": true
   },
   "outputs": [],
   "source": [
    "from sklearn.linear_model import LogisticRegression"
   ]
  },
  {
   "cell_type": "code",
   "execution_count": 35,
   "metadata": {
    "collapsed": true
   },
   "outputs": [],
   "source": [
    "lr = LogisticRegression()\n",
    "lr.fit(x_train, y_train)\n",
    "lr_pred = lr.predict(x_test)"
   ]
  },
  {
   "cell_type": "code",
   "execution_count": 38,
   "metadata": {},
   "outputs": [
    {
     "name": "stdout",
     "output_type": "stream",
     "text": [
      "ACCURACY-LOGISTIC REGRESSION: 0.999173553719\n"
     ]
    }
   ],
   "source": [
    "print('ACCURACY-LOGISTIC REGRESSION:', accuracy_score(y_test, lr_pred))"
   ]
  },
  {
   "cell_type": "code",
   "execution_count": 39,
   "metadata": {},
   "outputs": [
    {
     "name": "stdout",
     "output_type": "stream",
     "text": [
      "F1 SCORE- LOGISTIC REGRESSION:::: 0.993678887484\n"
     ]
    }
   ],
   "source": [
    "print('F1 SCORE- LOGISTIC REGRESSION::::', f1_score(y_test, lr_pred))"
   ]
  },
  {
   "cell_type": "code",
   "execution_count": 43,
   "metadata": {},
   "outputs": [
    {
     "name": "stdout",
     "output_type": "stream",
     "text": [
      "confusion matrix [[5652    0]\n",
      " [   5  393]]\n"
     ]
    }
   ],
   "source": [
    "print('confusion matrix', confusion_matrix(y_test, lr_pred))"
   ]
  },
  {
   "cell_type": "code",
   "execution_count": null,
   "metadata": {},
   "outputs": [],
   "source": []
  },
  {
   "cell_type": "code",
   "execution_count": 46,
   "metadata": {},
   "outputs": [
    {
     "data": {
      "image/png": "[encoded data removed]",
      "text/plain": [
       "<matplotlib.figure.Figure at 0x199ce4e1da0>"
      ]
     },
     "metadata": {},
     "output_type": "display_data"
    }
   ],
   "source": [
    "cm = confusion_matrix(y_test, lr_pred)\n",
    "fig, ax = plt.subplots(figsize=(10,8))\n",
    "sns.heatmap(cm, annot=True)\n",
    "plt.show()"
   ]
  },
  {
   "cell_type": "markdown",
   "metadata": {},
   "source": [
    "# Random Forest Classifier"
   ]
  },
  {
   "cell_type": "code",
   "execution_count": 47,
   "metadata": {
    "collapsed": true
   },
   "outputs": [],
   "source": [
    "from sklearn.ensemble import RandomForestClassifier"
   ]
  },
  {
   "cell_type": "code",
   "execution_count": 48,
   "metadata": {
    "collapsed": true
   },
   "outputs": [],
   "source": [
    "rf = RandomForestClassifier()\n",
    "rf.fit(x_train, y_train)\n",
    "rf_pred = rf.predict(x_test)"
   ]
  },
  {
   "cell_type": "code",
   "execution_count": 49,
   "metadata": {},
   "outputs": [
    {
     "data": {
      "text/plain": [
       "array([0, 0, 0, ..., 0, 0, 0], dtype=int64)"
      ]
     },
     "execution_count": 49,
     "metadata": {},
     "output_type": "execute_result"
    }
   ],
   "source": [
    "rf_pred"
   ]
  },
  {
   "cell_type": "code",
   "execution_count": 53,
   "metadata": {},
   "outputs": [
    {
     "name": "stdout",
     "output_type": "stream",
     "text": [
      "ACCURACY SCORE BY RANDOM FOREST CLASSI 1.0\n"
     ]
    }
   ],
   "source": [
    "print('ACCURACY SCORE BY RANDOM FOREST CLASSI', accuracy_score(y_test,rf_pred))"
   ]
  },
  {
   "cell_type": "code",
   "execution_count": 57,
   "metadata": {},
   "outputs": [
    {
     "name": "stdout",
     "output_type": "stream",
     "text": [
      "F1 score by RAND FORE CLASS 1.0\n"
     ]
    }
   ],
   "source": [
    "print('F1 score by RAND FORE CLASS', f1_score(y_test, rf_pred))"
   ]
  },
  {
   "cell_type": "code",
   "execution_count": 58,
   "metadata": {},
   "outputs": [
    {
     "name": "stdout",
     "output_type": "stream",
     "text": [
      " confusion matrix by RAND FOR CLAS [[5652    0]\n",
      " [   0  398]]\n"
     ]
    }
   ],
   "source": [
    "print(' confusion matrix by RAND FOR CLAS', confusion_matrix(y_test, rf_pred))"
   ]
  },
  {
   "cell_type": "code",
   "execution_count": 60,
   "metadata": {},
   "outputs": [
    {
     "data": {
      "image/png": "[encoded data removed]",
      "text/plain": [
       "<matplotlib.figure.Figure at 0x199ce3fbac8>"
      ]
     },
     "metadata": {},
     "output_type": "display_data"
    }
   ],
   "source": [
    "cm = confusion_matrix(y_test, rf_pred)\n",
    "fig, ax = plt.subplots(figsize=(10,8))\n",
    "sns.heatmap(cm, annot=True)\n",
    "plt.show()\n"
   ]
  },
  {
   "cell_type": "markdown",
   "metadata": {},
   "source": [
    "# Decision tree regression"
   ]
  },
  {
   "cell_type": "code",
   "execution_count": 63,
   "metadata": {
    "collapsed": true
   },
   "outputs": [],
   "source": [
    "from sklearn.tree import DecisionTreeRegressor\n"
   ]
  },
  {
   "cell_type": "code",
   "execution_count": 65,
   "metadata": {},
   "outputs": [
    {
     "data": {
      "text/plain": [
       "DecisionTreeRegressor(criterion='mse', max_depth=None, max_features=None,\n",
       "           max_leaf_nodes=None, min_impurity_split=1e-07,\n",
       "           min_samples_leaf=1, min_samples_split=2,\n",
       "           min_weight_fraction_leaf=0.0, presort=False, random_state=None,\n",
       "           splitter='best')"
      ]
     },
     "execution_count": 65,
     "metadata": {},
     "output_type": "execute_result"
    }
   ],
   "source": [
    "credDTR = DecisionTreeRegressor()\n",
    "credDTR.fit(x_train, y_train)"
   ]
  },
  {
   "cell_type": "code",
   "execution_count": 69,
   "metadata": {},
   "outputs": [
    {
     "name": "stdout",
     "output_type": "stream",
     "text": [
      "[ 0.  0.  0. ...,  0.  0.  0.]\n"
     ]
    }
   ],
   "source": [
    "dtr_pred = credDTR.predict(x_test)\n",
    "print(dtr)"
   ]
  },
  {
   "cell_type": "code",
   "execution_count": 74,
   "metadata": {},
   "outputs": [
    {
     "name": "stdout",
     "output_type": "stream",
     "text": [
      "coefficent of determ 1.0\n"
     ]
    }
   ],
   "source": [
    "r_sq2 = credDTR.score(x_train, y_train)\n",
    "print('coefficent of determ', r_sq2)"
   ]
  },
  {
   "cell_type": "code",
   "execution_count": 75,
   "metadata": {},
   "outputs": [
    {
     "name": "stdout",
     "output_type": "stream",
     "text": [
      "r2: 0.997310508665\n"
     ]
    }
   ],
   "source": [
    "from sklearn import metrics\n",
    "print('r2:', r2_score(y_test, dtr_pred))"
   ]
  },
  {
   "cell_type": "code",
   "execution_count": 78,
   "metadata": {},
   "outputs": [
    {
     "data": {
      "image/png": "[encoded data removed]",
      "text/plain": [
       "<matplotlib.figure.Figure at 0x199ce666eb8>"
      ]
     },
     "metadata": {},
     "output_type": "display_data"
    }
   ],
   "source": [
    "cm = confusion_matrix(y_test, dtr_pred)\n",
    "fig, ax = plt.subplots(figsize=(10,8))\n",
    "sns.heatmap(cm, annot=True)\n",
    "plt.show()\n"
   ]
  },
  {
   "cell_type": "code",
   "execution_count": null,
   "metadata": {
    "collapsed": true
   },
   "outputs": [],
   "source": []
  }
 ],
 "metadata": {
  "kernelspec": {
   "display_name": "Python 3",
   "language": "python",
   "name": "python3"
  },
  "language_info": {
   "codemirror_mode": {
    "name": "ipython",
    "version": 3
   },
   "file_extension": ".py",
   "mimetype": "text/x-python",
   "name": "python",
   "nbconvert_exporter": "python",
   "pygments_lexer": "ipython3",
   "version": "3.6.1"
  }
 },
 "nbformat": 4,
 "nbformat_minor": 2
}
